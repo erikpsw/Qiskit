{
 "metadata": {
  "language_info": {
   "codemirror_mode": {
    "name": "ipython",
    "version": 3
   },
   "file_extension": ".py",
   "mimetype": "text/x-python",
   "name": "python",
   "nbconvert_exporter": "python",
   "pygments_lexer": "ipython3",
   "version": "3.7.6-final"
  },
  "orig_nbformat": 2,
  "kernelspec": {
   "name": "python_defaultSpec_1598504016455",
   "display_name": "Python 3.7.6 64-bit ('base': conda)"
  }
 },
 "nbformat": 4,
 "nbformat_minor": 2,
 "cells": [
  {
   "cell_type": "code",
   "execution_count": 7,
   "metadata": {},
   "outputs": [
    {
     "output_type": "execute_result",
     "data": {
      "text/plain": "'0.15.1'"
     },
     "metadata": {},
     "execution_count": 7
    }
   ],
   "source": [
    "import qiskit\n",
    "qiskit.__version__"
   ]
  },
  {
   "cell_type": "code",
   "execution_count": 8,
   "metadata": {
    "tags": []
   },
   "outputs": [],
   "source": [
    "from qiskit import IBMQ\n",
    "IBMQ.save_account('0db5a7642835e923025d58fd9e138cd7ec23bf2e97770cca5896a3de99e57ee49092c30cbaf67eeedf78621f4d38596907b062421c9cea00edf3c7df4521a196',overwrite=True)"
   ]
  },
  {
   "cell_type": "code",
   "execution_count": 9,
   "metadata": {
    "tags": []
   },
   "outputs": [
    {
     "output_type": "stream",
     "name": "stderr",
     "text": "ibmqfactory.load_account:WARNING:2020-08-27 12:55:08,119: Credentials are already in use. The existing account in the session will be replaced.\n"
    },
    {
     "output_type": "execute_result",
     "data": {
      "text/plain": "<AccountProvider for IBMQ(hub='ibm-q', group='open', project='main')>"
     },
     "metadata": {},
     "execution_count": 9
    }
   ],
   "source": [
    "IBMQ.load_account()"
   ]
  },
  {
   "cell_type": "code",
   "execution_count": 10,
   "metadata": {},
   "outputs": [
    {
     "output_type": "execute_result",
     "data": {
      "text/plain": "{'qiskit-terra': '0.15.1',\n 'qiskit-aer': '0.6.1',\n 'qiskit-ignis': '0.4.0',\n 'qiskit-ibmq-provider': '0.8.0',\n 'qiskit-aqua': '0.7.5',\n 'qiskit': '0.20.0'}"
     },
     "metadata": {},
     "execution_count": 10
    }
   ],
   "source": [
    "qiskit.__qiskit_version__"
   ]
  },
  {
   "cell_type": "code",
   "execution_count": null,
   "metadata": {},
   "outputs": [],
   "source": []
  }
 ]
}